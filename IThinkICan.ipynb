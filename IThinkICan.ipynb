{
 "cells": [
  {
   "cell_type": "markdown",
   "metadata": {},
   "source": [
    "# Continuous Action Mountain Car trained with Deep Deterministic Policy Gradients"
   ]
  },
  {
   "cell_type": "markdown",
   "metadata": {},
   "source": [
    "## Step 0: Import necessary packages"
   ]
  },
  {
   "cell_type": "code",
   "execution_count": 1,
   "metadata": {},
   "outputs": [],
   "source": [
    "import numpy as np\n",
    "import matplotlib.pyplot as plt\n",
    "import tensorflow as tf\n",
    "import gym\n",
    "import random"
   ]
  },
  {
   "cell_type": "markdown",
   "metadata": {},
   "source": [
    "## Step 1: Activate the environment and examine state/action spaces"
   ]
  },
  {
   "cell_type": "code",
   "execution_count": 2,
   "metadata": {},
   "outputs": [
    {
     "name": "stderr",
     "output_type": "stream",
     "text": [
      "/home/vikram/miniconda3/envs/ai_esports/lib/python3.7/site-packages/gym/logger.py:30: UserWarning: \u001b[33mWARN: Box bound precision lowered by casting to float32\u001b[0m\n",
      "  warnings.warn(colorize('%s: %s'%('WARN', msg % args), 'yellow'))\n"
     ]
    }
   ],
   "source": [
    "env = gym.make('MountainCarContinuous-v0')"
   ]
  },
  {
   "cell_type": "code",
   "execution_count": 3,
   "metadata": {},
   "outputs": [
    {
     "name": "stdout",
     "output_type": "stream",
     "text": [
      "Box(2,)\n",
      "[0.6  0.07]\n",
      "[-1.2  -0.07]\n",
      "Box(1,)\n",
      "[1.]\n",
      "[-1.]\n"
     ]
    }
   ],
   "source": [
    "print(env.observation_space)\n",
    "print(env.observation_space.high)\n",
    "print(env.observation_space.low)\n",
    "print(env.action_space)\n",
    "print(env.action_space.high)\n",
    "print(env.action_space.low)"
   ]
  },
  {
   "cell_type": "code",
   "execution_count": 4,
   "metadata": {},
   "outputs": [],
   "source": [
    "state_size = env.observation_space.shape[0]\n",
    "action_size = env.action_space.shape[0]\n",
    "action_high = env.action_space.high\n",
    "action_low = env.action_space.low"
   ]
  },
  {
   "cell_type": "markdown",
   "metadata": {},
   "source": [
    "Let's take some random actions in the environment and see what happens..."
   ]
  },
  {
   "cell_type": "code",
   "execution_count": null,
   "metadata": {},
   "outputs": [],
   "source": [
    "for i_episode in range(20):\n",
    "    observation = env.reset()\n",
    "    for t in range(100):\n",
    "        env.render()\n",
    "        print(observation)\n",
    "        action = env.action_space.sample()\n",
    "        observation, reward, done, info = env.step(action)\n",
    "        if done:\n",
    "            print(\"Episode finished after {} timesteps\".format(t+1))\n",
    "            break\n",
    "env.close()"
   ]
  },
  {
   "cell_type": "markdown",
   "metadata": {},
   "source": [
    "## Step 2: Create and train the agent"
   ]
  },
  {
   "cell_type": "code",
   "execution_count": 5,
   "metadata": {},
   "outputs": [],
   "source": [
    "from agent import DDPG\n",
    "from collections import deque"
   ]
  },
  {
   "cell_type": "code",
   "execution_count": 6,
   "metadata": {},
   "outputs": [],
   "source": [
    "# Define all hyperparameters here\n",
    "ACTOR_LR = 1e-4\n",
    "CRITIC_LR = 1e-3\n",
    "RANDOM_SEED = 42\n",
    "MU = 0.0\n",
    "THETA = 0.15\n",
    "SIGMA = 0.2\n",
    "BUFFER_SIZE = 1e5\n",
    "BATCH_SIZE = 128\n",
    "GAMMA = 0.99\n",
    "TAU = 1e-3\n",
    "N_TIME_STEPS = 1\n",
    "N_LEARN_UPDATES = 1\n",
    "\n",
    "if tf.test.is_gpu_available():\n",
    "    DEVICE = \"/GPU:0\"\n",
    "else:\n",
    "    DEVICE = \"/device:CPU:0\""
   ]
  },
  {
   "cell_type": "code",
   "execution_count": null,
   "metadata": {},
   "outputs": [],
   "source": [
    "agent = DDPG(state_size, action_size, action_high, action_low, ACTOR_LR, CRITIC_LR,\n",
    "             RANDOM_SEED, MU, THETA, SIGMA, BUFFER_SIZE, BATCH_SIZE,\n",
    "             GAMMA, TAU, N_TIME_STEPS, N_LEARN_UPDATES, DEVICE)"
   ]
  },
  {
   "cell_type": "code",
   "execution_count": null,
   "metadata": {},
   "outputs": [],
   "source": [
    "def ddpg(n_episodes=1000, print_every=100):\n",
    "    scores_deque = deque(maxlen=print_every)\n",
    "    scores = []\n",
    "    \n",
    "    for i_episode in range(1, n_episodes+1):\n",
    "        state = env.reset()\n",
    "        agent.reset()\n",
    "        score = 0\n",
    "        t = 0\n",
    "        \n",
    "        while(True):\n",
    "            t += 1\n",
    "            action = agent.act(state)\n",
    "            next_state, reward, done, _ = env.step(action)\n",
    "            agent.step(t, state, action, reward, next_state, done)\n",
    "            state = next_state\n",
    "            score += reward\n",
    "            if done:\n",
    "                break \n",
    "        scores_deque.append(score)\n",
    "        scores.append(score)\n",
    "        print('\\rEpisode {}\\tAverage Score: {:.2f}'.format(i_episode, np.mean(scores_deque)), end=\"\")\n",
    "        agent.actor_local.model.save('checkpoint_actor.h5')\n",
    "        agent.critic_local.model.save('checkpoint_critic.h5')\n",
    "        if i_episode % print_every == 0:\n",
    "            print('\\rEpisode {}\\tAverage Score: {:.2f}'.format(i_episode, np.mean(scores_deque)))\n",
    "            \n",
    "        if np.mean(scores_deque) >= 90.0:\n",
    "            print('\\nEnvironment solved in {:d} episodes!\\tAverage Score: {:.2f}'.format(i_episode-100, np.mean(scores_deque)))\n",
    "            agent.actor_local.model.save('checkpoint_actor.h5')\n",
    "            agent.critic_local.model.save('checkpoint_critic.h5')\n",
    "            break\n",
    "            \n",
    "    return scores\n",
    "\n",
    "scores = ddpg()\n",
    "\n",
    "fig = plt.figure()\n",
    "ax = fig.add_subplot(111)\n",
    "plt.plot(np.arange(1, len(scores)+1), scores)\n",
    "plt.ylabel('Score')\n",
    "plt.xlabel('Episode #')\n",
    "plt.show()"
   ]
  },
  {
   "cell_type": "markdown",
   "metadata": {},
   "source": [
    "## Step 3: See the trained agent in action"
   ]
  },
  {
   "cell_type": "code",
   "execution_count": 9,
   "metadata": {},
   "outputs": [],
   "source": [
    "from tensorflow.keras.models import load_model\n",
    "\n",
    "trained_model = load_model('checkpoint_actor.h5', compile=False)"
   ]
  },
  {
   "cell_type": "code",
   "execution_count": 10,
   "metadata": {},
   "outputs": [
    {
     "name": "stdout",
     "output_type": "stream",
     "text": [
      "Episode 1 finished after 107 timesteps. Total score: 92.6259056646498\n",
      "Episode 2 finished after 77 timesteps. Total score: 94.92700402670195\n",
      "Episode 3 finished after 105 timesteps. Total score: 92.24396102552018\n",
      "Episode 4 finished after 107 timesteps. Total score: 92.1137368917725\n",
      "Episode 5 finished after 77 timesteps. Total score: 94.89446283916597\n",
      "Episode 6 finished after 107 timesteps. Total score: 91.51780576851142\n",
      "Episode 7 finished after 104 timesteps. Total score: 92.31759281236737\n",
      "Episode 8 finished after 104 timesteps. Total score: 92.289101656774\n",
      "Episode 9 finished after 103 timesteps. Total score: 92.28996766335256\n",
      "Episode 10 finished after 103 timesteps. Total score: 92.16521049372446\n",
      "Episode 11 finished after 103 timesteps. Total score: 92.31726429213056\n",
      "Episode 12 finished after 103 timesteps. Total score: 92.13241779875503\n",
      "Episode 13 finished after 104 timesteps. Total score: 92.29394132765881\n",
      "Episode 14 finished after 103 timesteps. Total score: 92.16346638377718\n",
      "Episode 15 finished after 103 timesteps. Total score: 92.03061758901697\n",
      "Episode 16 finished after 74 timesteps. Total score: 94.95581316970765\n",
      "Episode 17 finished after 107 timesteps. Total score: 91.480989183007\n",
      "Episode 18 finished after 105 timesteps. Total score: 91.6937583268402\n",
      "Episode 19 finished after 103 timesteps. Total score: 92.26099115664371\n",
      "Episode 20 finished after 103 timesteps. Total score: 92.27492591491497\n"
     ]
    }
   ],
   "source": [
    "for i_episode in range(20):\n",
    "    next_state = env.reset()\n",
    "    \n",
    "    score = 0.0\n",
    "    \n",
    "    for t in range(999):\n",
    "        env.render()\n",
    "        next_state = np.expand_dims(next_state, axis=0)\n",
    "        action = trained_model(next_state).numpy()[0]\n",
    "        next_state, reward, done, info = env.step(action)\n",
    "        score += reward\n",
    "        if done:\n",
    "            break\n",
    "    \n",
    "    print(\"Episode {0} finished after {1} timesteps. Total score: {2}\".format(i_episode+1, t+1, score))\n",
    "            \n",
    "env.close()"
   ]
  }
 ],
 "metadata": {
  "kernelspec": {
   "display_name": "Python [conda env:ai_esports] *",
   "language": "python",
   "name": "conda-env-ai_esports-py"
  },
  "language_info": {
   "codemirror_mode": {
    "name": "ipython",
    "version": 3
   },
   "file_extension": ".py",
   "mimetype": "text/x-python",
   "name": "python",
   "nbconvert_exporter": "python",
   "pygments_lexer": "ipython3",
   "version": "3.7.6"
  }
 },
 "nbformat": 4,
 "nbformat_minor": 4
}
